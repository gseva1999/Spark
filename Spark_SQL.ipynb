{
 "cells": [
  {
   "cell_type": "markdown",
   "metadata": {},
   "source": [
    "<h2><center> Homework №2 </center></h2>"
   ]
  },
  {
   "cell_type": "markdown",
   "metadata": {},
   "source": [
    "<h3>Contents</h3>\n",
    "        <li><a href=\"#1\">Environment Setup</a></li>\n",
    "        <li><a href=\"#2\">Task 1</a></li>\n",
    "        <li><a href=\"#3\">Task 2</a></li>\n",
    "        <li><a href=\"#4\">Task 3</a></li>"
   ]
  },
  {
   "cell_type": "code",
   "execution_count": 1,
   "metadata": {},
   "outputs": [],
   "source": [
    "import json\n",
    "import pandas as pd\n",
    "import geopandas as gpd\n",
    "from shapely.geometry import Point, Polygon, MultiPolygon\n",
    "from geopandas.tools import sjoin\n",
    "import folium\n",
    "from folium.plugins import HeatMap, HeatMapWithTime"
   ]
  },
  {
   "cell_type": "code",
   "execution_count": 2,
   "metadata": {},
   "outputs": [],
   "source": [
    "def embed_map(m):\n",
    "    from IPython.display import IFrame\n",
    "\n",
    "    m.save('index.html')\n",
    "    return IFrame('index.html', width='100%', height='750px')"
   ]
  },
  {
   "cell_type": "markdown",
   "metadata": {},
   "source": [
    "<a name=\"1\"></a>\n",
    "<h3>Environment Setup</h3>"
   ]
  },
  {
   "cell_type": "code",
   "execution_count": 3,
   "metadata": {},
   "outputs": [],
   "source": [
    "import os\n",
    "import sys\n",
    "\n",
    "os.environ[\"SPARK_HOME\"]=\"/home/ubuntu/BigData/spark\"\n",
    "os.environ[\"PYSPARK_PYTHON\"]=\"/home/ubuntu/ML/anaconda3/bin/python\"\n",
    "os.environ[\"PYSPARK_DRIVER_PYTHON\"]=\"/home/ubuntu/ML/anaconda3/bin/python\"\n",
    "\n",
    "spark_home = os.environ.get(\"SPARK_HOME\")\n",
    "sys.path.insert(0, os.path.join(spark_home, \"python\"))\n",
    "sys.path.insert(0, os.path.join(spark_home, \"python/lib/py4j-0.10.7-src.zip\"))"
   ]
  },
  {
   "cell_type": "code",
   "execution_count": 4,
   "metadata": {},
   "outputs": [],
   "source": [
    "import pyspark\n",
    "from pyspark.sql import SparkSession, Row"
   ]
  },
  {
   "cell_type": "code",
   "execution_count": 5,
   "metadata": {},
   "outputs": [],
   "source": [
    "conf = pyspark.SparkConf() \\\n",
    "        .set(\"spark.driver.memory\", \"2g\") \\\n",
    "        .set(\"spark.executor.memory\", \"1g\") \\\n",
    "        .set(\"spark.executor.core\", \"2\") \\\n",
    "        .setAppName(\"HW2\") \\\n",
    "        .setMaster(\"local[4]\")"
   ]
  },
  {
   "cell_type": "code",
   "execution_count": 6,
   "metadata": {},
   "outputs": [],
   "source": [
    "spark = SparkSession \\\n",
    "    .builder \\\n",
    "    .config(conf=conf) \\\n",
    "    .getOrCreate()"
   ]
  },
  {
   "cell_type": "code",
   "execution_count": 7,
   "metadata": {},
   "outputs": [
    {
     "data": {
      "text/html": [
       "\n",
       "            <div>\n",
       "                <p><b>SparkSession - in-memory</b></p>\n",
       "                \n",
       "        <div>\n",
       "            <p><b>SparkContext</b></p>\n",
       "\n",
       "            <p><a href=\"http://linux:4040\">Spark UI</a></p>\n",
       "\n",
       "            <dl>\n",
       "              <dt>Version</dt>\n",
       "                <dd><code>v2.4.6</code></dd>\n",
       "              <dt>Master</dt>\n",
       "                <dd><code>local[4]</code></dd>\n",
       "              <dt>AppName</dt>\n",
       "                <dd><code>HW2</code></dd>\n",
       "            </dl>\n",
       "        </div>\n",
       "        \n",
       "            </div>\n",
       "        "
      ],
      "text/plain": [
       "<pyspark.sql.session.SparkSession at 0x7fe5e07fdcf8>"
      ]
     },
     "execution_count": 7,
     "metadata": {},
     "output_type": "execute_result"
    }
   ],
   "source": [
    "spark"
   ]
  },
  {
   "cell_type": "code",
   "execution_count": 8,
   "metadata": {},
   "outputs": [],
   "source": [
    "import pyspark.sql.functions as F\n",
    "from pyspark.sql.types import (\n",
    "    StructType, \n",
    "    StructField, \n",
    "    StringType, \n",
    "    IntegerType, \n",
    "    DoubleType,\n",
    "    FloatType\n",
    ")\n",
    "from math import cos, asin, sqrt, sin"
   ]
  },
  {
   "cell_type": "code",
   "execution_count": 9,
   "metadata": {},
   "outputs": [],
   "source": [
    "# spark.stop()"
   ]
  },
  {
   "cell_type": "markdown",
   "metadata": {},
   "source": [
    "<a name=\"2\"></a>\n",
    "<h3>Task 1</h3>"
   ]
  },
  {
   "cell_type": "markdown",
   "metadata": {},
   "source": [
    "<h4>Task 1.1</h4>"
   ]
  },
  {
   "cell_type": "code",
   "execution_count": 18,
   "metadata": {},
   "outputs": [],
   "source": [
    "BASE_PATH = \"/home/ubuntu/BigData/datasets\"\n",
    "trips_data_path = \"file://{}/201902-citibike-tripdata.csv\".format(BASE_PATH)"
   ]
  },
  {
   "cell_type": "code",
   "execution_count": 19,
   "metadata": {},
   "outputs": [
    {
     "name": "stdout",
     "output_type": "stream",
     "text": [
      "+------------+--------------------+--------------------+----------------+--------------------+----------------------+-----------------------+--------------+--------------------+--------------------+---------------------+------+----------+----------+------+\n",
      "|tripduration|           starttime|            stoptime|start station id|  start station name|start station latitude|start station longitude|end station id|    end station name|end station latitude|end station longitude|bikeid|  usertype|birth year|gender|\n",
      "+------------+--------------------+--------------------+----------------+--------------------+----------------------+-----------------------+--------------+--------------------+--------------------+---------------------+------+----------+----------+------+\n",
      "|         219|2019-02-01 00:00:...|2019-02-01 00:03:...|            3494|E 115 St & Lexing...|             40.797911|               -73.9423|          3501|E 118 St & Madiso...|          40.8014866|          -73.9442507| 33450|Subscriber|      1989|     1|\n",
      "|         143|2019-02-01 00:00:...|2019-02-01 00:02:...|             438| St Marks Pl & 1 Ave|           40.72779126|           -73.98564945|           236| St Marks Pl & 2 Ave|          40.7284186|         -73.98713956| 25626|Subscriber|      1990|     1|\n",
      "|         296|2019-02-01 00:01:...|2019-02-01 00:06:...|            3571|Bedford Ave & Ber...|             40.676368|             -73.952918|          3549|Grand Ave & Berge...|           40.678045|           -73.962408| 35568|Subscriber|      1987|     1|\n",
      "|         478|2019-02-01 00:01:...|2019-02-01 00:09:...|             167|     E 39 St & 3 Ave|            40.7489006|           -73.97604882|           477|     W 41 St & 8 Ave|         40.75640548|          -73.9900262| 25045|Subscriber|      1964|     2|\n",
      "|         225|2019-02-01 00:01:...|2019-02-01 00:05:...|            3458|     W 55 St & 6 Ave|     40.76309387270797|      -73.9783501625061|          3443|     W 52 St & 6 Ave|   40.76132983124814|   -73.97982001304626| 34006|Subscriber|      1979|     1|\n",
      "+------------+--------------------+--------------------+----------------+--------------------+----------------------+-----------------------+--------------+--------------------+--------------------+---------------------+------+----------+----------+------+\n",
      "only showing top 5 rows\n",
      "\n"
     ]
    }
   ],
   "source": [
    "df_trips = spark.read.load(trips_data_path, \n",
    "                           format=\"csv\", \n",
    "                           header=\"true\", \n",
    "                           inferSchema=\"true\",\n",
    "                           sep=\",\")\n",
    "\n",
    "df_trips.show(5, truncate=True)"
   ]
  },
  {
   "cell_type": "markdown",
   "metadata": {},
   "source": [
    "Получаем количество начала поездок"
   ]
  },
  {
   "cell_type": "code",
   "execution_count": 20,
   "metadata": {},
   "outputs": [
    {
     "name": "stdout",
     "output_type": "stream",
     "text": [
      "+----+-----------+\n",
      "|  id|start_count|\n",
      "+----+-----------+\n",
      "| 296|       1795|\n",
      "|3606|        215|\n",
      "| 467|       1276|\n",
      "|3414|        656|\n",
      "|3368|        745|\n",
      "+----+-----------+\n",
      "only showing top 5 rows\n",
      "\n"
     ]
    }
   ],
   "source": [
    "df_stations_start_count = df_trips.select(F.col(\"start station id\").alias(\"id\"))\\\n",
    "                            .groupBy(\"id\")\\\n",
    "                            .agg(F.count(\"id\").alias(\"start_count\"))\n",
    "df_stations_start_count.show(5)"
   ]
  },
  {
   "cell_type": "markdown",
   "metadata": {},
   "source": [
    "Получаем количество завершения поездок"
   ]
  },
  {
   "cell_type": "code",
   "execution_count": 21,
   "metadata": {},
   "outputs": [
    {
     "name": "stdout",
     "output_type": "stream",
     "text": [
      "+----+---------+\n",
      "|  id|end_count|\n",
      "+----+---------+\n",
      "| 467|     1312|\n",
      "| 296|     1825|\n",
      "|3414|      681|\n",
      "|3606|      224|\n",
      "|3441|      268|\n",
      "+----+---------+\n",
      "only showing top 5 rows\n",
      "\n"
     ]
    }
   ],
   "source": [
    "df_stations_end_count = df_trips.select(F.col(\"end station id\").alias(\"id\"))\\\n",
    "                            .groupBy(\"id\")\\\n",
    "                            .agg(F.count(\"id\").alias(\"end_count\"))\n",
    "df_stations_end_count.show(5)"
   ]
  },
  {
   "cell_type": "markdown",
   "metadata": {},
   "source": [
    "Получаем список всех станций"
   ]
  },
  {
   "cell_type": "code",
   "execution_count": 22,
   "metadata": {},
   "outputs": [
    {
     "name": "stdout",
     "output_type": "stream",
     "text": [
      "Number of stations: 780\n",
      "+----+-----------+------------+\n",
      "|  id|        lat|         lng|\n",
      "+----+-----------+------------+\n",
      "| 379|  40.749156|    -73.9916|\n",
      "|3495| 40.7945663| -73.9362541|\n",
      "|3490|  40.796879|  -73.937261|\n",
      "| 340|40.71269042|-73.98776323|\n",
      "|3391| 40.7892529|-73.93956237|\n",
      "+----+-----------+------------+\n",
      "only showing top 5 rows\n",
      "\n"
     ]
    }
   ],
   "source": [
    "df_stations_start = df_trips.select(F.col(\"start station id\").alias(\"id\"), \n",
    "                              F.col(\"start station latitude\").alias(\"lat\"), \n",
    "                              F.col(\"start station longitude\").alias(\"lng\"))\\\n",
    "                            .distinct()\n",
    "\n",
    "df_stations_end = df_trips.select(F.col(\"end station id\").alias(\"id\"), \n",
    "                              F.col(\"end station latitude\").alias(\"lat\"), \n",
    "                              F.col(\"end station longitude\").alias(\"lng\"))\\\n",
    "                            .distinct()\n",
    "\n",
    "df_stations = df_stations_start.union(df_stations_end).distinct()\n",
    "print(\"Number of stations:\", df_stations.count())\n",
    "\n",
    "df_stations.show(5)"
   ]
  },
  {
   "cell_type": "markdown",
   "metadata": {},
   "source": [
    "Результат"
   ]
  },
  {
   "cell_type": "code",
   "execution_count": 23,
   "metadata": {},
   "outputs": [
    {
     "name": "stdout",
     "output_type": "stream",
     "text": [
      "+----+------------------+------------------+-----------+---------+\n",
      "|  id|               lat|               lng|start_count|end_count|\n",
      "+----+------------------+------------------+-----------+---------+\n",
      "| 296|       40.71413089|       -73.9970468|       1795|     1825|\n",
      "|3414|40.680944723477296|-73.97567331790923|        656|      681|\n",
      "|3606|          40.74252|        -73.948852|        215|      224|\n",
      "| 467|       40.68312489|      -73.97895137|       1276|     1312|\n",
      "|3368|        40.6728155|      -73.98352355|        745|      769|\n",
      "|3441|         40.752957|         -74.00264|        263|      268|\n",
      "|3517|        40.7711528|       -73.9170074|        299|      301|\n",
      "|3526|        40.7747878|       -73.9125551|        604|      606|\n",
      "|3121|       40.74524768|      -73.94733276|        291|      295|\n",
      "|3249|  40.6803560840434| -73.9476791024208|        341|      340|\n",
      "|3312|        40.7817212|         -73.94594|        788|      791|\n",
      "| 447|       40.76370739|       -73.9851615|       2512|     2499|\n",
      "|3057|       40.69128258|       -73.9452416|        480|      451|\n",
      "| 307|       40.71427487|      -73.98990025|       3028|     3006|\n",
      "|3167| 40.77966809007312|-73.98093044757842|       2820|     2693|\n",
      "|3491|          40.79747|         -73.93504|        398|      399|\n",
      "|3179|         40.698617|        -73.941342|        241|      250|\n",
      "|3241|         40.686203|        -73.944694|        453|      432|\n",
      "|3299|          40.78813|         -73.95206|        256|      262|\n",
      "| 334|       40.74238787|      -73.99726235|       2905|     2912|\n",
      "+----+------------------+------------------+-----------+---------+\n",
      "only showing top 20 rows\n",
      "\n"
     ]
    }
   ],
   "source": [
    "df_stations_count = df_stations.join(df_stations_start_count, on=\"Id\", how=\"left\")\\\n",
    "                                .join(df_stations_end_count, on=\"Id\", how=\"left\")\n",
    "\n",
    "df_stations_count.show()"
   ]
  },
  {
   "cell_type": "code",
   "execution_count": 16,
   "metadata": {},
   "outputs": [
    {
     "name": "stdout",
     "output_type": "stream",
     "text": [
      "+----+----------+----------+-----------+---------+\n",
      "|  id|       lat|       lng|start_count|end_count|\n",
      "+----+----------+----------+-----------+---------+\n",
      "|3639|40.7192517|-74.034234|       null|        1|\n",
      "+----+----------+----------+-----------+---------+\n",
      "\n"
     ]
    }
   ],
   "source": [
    "# df_stations_count.createOrReplaceTempView(\"station_without_start_trips\")\n",
    "# df_grade = spark.sql(\"SELECT * FROM station_without_start_trips WHERE id = 3639\")\n",
    "# df_grade.show()"
   ]
  },
  {
   "cell_type": "markdown",
   "metadata": {},
   "source": [
    "<h4> Task 1.2, 1.3 </h4>"
   ]
  },
  {
   "cell_type": "code",
   "execution_count": 24,
   "metadata": {},
   "outputs": [],
   "source": [
    "borough_data_path = BASE_PATH + \"/NYC Taxi Zones.geojson\"\n",
    "\n",
    "\n",
    "with open(borough_data_path) as f:\n",
    "    zones_geojson = json.load(f)\n",
    "    \n",
    "    \n",
    "column_name_list = [key for key, _ in zones_geojson[\"features\"][0][\"properties\"].items()]\n",
    "column_name_list += [\"geometry\"]"
   ]
  },
  {
   "cell_type": "code",
   "execution_count": 25,
   "metadata": {},
   "outputs": [],
   "source": [
    "def create_zone_rows(features):\n",
    "    for item in features:\n",
    "        row = list()\n",
    "        for key, value in item[\"properties\"].items():\n",
    "            row.append(value)        \n",
    "        polygons = list()\n",
    "        for polygon in item[\"geometry\"][\"coordinates\"]:\n",
    "            polygons.append(Polygon(polygon[0]))\n",
    "        row.append(MultiPolygon(polygons=polygons))\n",
    "        yield row"
   ]
  },
  {
   "cell_type": "code",
   "execution_count": 27,
   "metadata": {},
   "outputs": [
    {
     "data": {
      "text/html": [
       "<div>\n",
       "<style scoped>\n",
       "    .dataframe tbody tr th:only-of-type {\n",
       "        vertical-align: middle;\n",
       "    }\n",
       "\n",
       "    .dataframe tbody tr th {\n",
       "        vertical-align: top;\n",
       "    }\n",
       "\n",
       "    .dataframe thead th {\n",
       "        text-align: right;\n",
       "    }\n",
       "</style>\n",
       "<table border=\"1\" class=\"dataframe\">\n",
       "  <thead>\n",
       "    <tr style=\"text-align: right;\">\n",
       "      <th></th>\n",
       "      <th>shape_area</th>\n",
       "      <th>objectid</th>\n",
       "      <th>shape_leng</th>\n",
       "      <th>location_id</th>\n",
       "      <th>zone</th>\n",
       "      <th>borough</th>\n",
       "      <th>geometry</th>\n",
       "    </tr>\n",
       "  </thead>\n",
       "  <tbody>\n",
       "    <tr>\n",
       "      <th>0</th>\n",
       "      <td>0.0007823067885</td>\n",
       "      <td>1</td>\n",
       "      <td>0.116357453189</td>\n",
       "      <td>1</td>\n",
       "      <td>Newark Airport</td>\n",
       "      <td>EWR</td>\n",
       "      <td>MULTIPOLYGON (((-74.18445 40.69500, -74.18449 ...</td>\n",
       "    </tr>\n",
       "    <tr>\n",
       "      <th>1</th>\n",
       "      <td>0.00486634037837</td>\n",
       "      <td>2</td>\n",
       "      <td>0.43346966679</td>\n",
       "      <td>2</td>\n",
       "      <td>Jamaica Bay</td>\n",
       "      <td>Queens</td>\n",
       "      <td>MULTIPOLYGON (((-73.82338 40.63899, -73.82277 ...</td>\n",
       "    </tr>\n",
       "    <tr>\n",
       "      <th>2</th>\n",
       "      <td>0.000314414156821</td>\n",
       "      <td>3</td>\n",
       "      <td>0.0843411059012</td>\n",
       "      <td>3</td>\n",
       "      <td>Allerton/Pelham Gardens</td>\n",
       "      <td>Bronx</td>\n",
       "      <td>MULTIPOLYGON (((-73.84793 40.87134, -73.84725 ...</td>\n",
       "    </tr>\n",
       "    <tr>\n",
       "      <th>3</th>\n",
       "      <td>0.000111871946192</td>\n",
       "      <td>4</td>\n",
       "      <td>0.0435665270921</td>\n",
       "      <td>4</td>\n",
       "      <td>Alphabet City</td>\n",
       "      <td>Manhattan</td>\n",
       "      <td>MULTIPOLYGON (((-73.97177 40.72582, -73.97179 ...</td>\n",
       "    </tr>\n",
       "    <tr>\n",
       "      <th>4</th>\n",
       "      <td>0.000497957489363</td>\n",
       "      <td>5</td>\n",
       "      <td>0.0921464898574</td>\n",
       "      <td>5</td>\n",
       "      <td>Arden Heights</td>\n",
       "      <td>Staten Island</td>\n",
       "      <td>MULTIPOLYGON (((-74.17422 40.56257, -74.17349 ...</td>\n",
       "    </tr>\n",
       "  </tbody>\n",
       "</table>\n",
       "</div>"
      ],
      "text/plain": [
       "          shape_area objectid       shape_leng location_id  \\\n",
       "0    0.0007823067885        1   0.116357453189           1   \n",
       "1   0.00486634037837        2    0.43346966679           2   \n",
       "2  0.000314414156821        3  0.0843411059012           3   \n",
       "3  0.000111871946192        4  0.0435665270921           4   \n",
       "4  0.000497957489363        5  0.0921464898574           5   \n",
       "\n",
       "                      zone        borough  \\\n",
       "0           Newark Airport            EWR   \n",
       "1              Jamaica Bay         Queens   \n",
       "2  Allerton/Pelham Gardens          Bronx   \n",
       "3            Alphabet City      Manhattan   \n",
       "4            Arden Heights  Staten Island   \n",
       "\n",
       "                                            geometry  \n",
       "0  MULTIPOLYGON (((-74.18445 40.69500, -74.18449 ...  \n",
       "1  MULTIPOLYGON (((-73.82338 40.63899, -73.82277 ...  \n",
       "2  MULTIPOLYGON (((-73.84793 40.87134, -73.84725 ...  \n",
       "3  MULTIPOLYGON (((-73.97177 40.72582, -73.97179 ...  \n",
       "4  MULTIPOLYGON (((-74.17422 40.56257, -74.17349 ...  "
      ]
     },
     "execution_count": 27,
     "metadata": {},
     "output_type": "execute_result"
    }
   ],
   "source": [
    "df_zones_pn = pd.DataFrame(create_zone_rows(zones_geojson[\"features\"]), columns=column_name_list)\n",
    "gdf_zones = gpd.GeoDataFrame(df_zones_pn, geometry=df_zones_pn[\"geometry\"])\n",
    "gdf_zones.head(5)"
   ]
  },
  {
   "cell_type": "code",
   "execution_count": 28,
   "metadata": {},
   "outputs": [
    {
     "data": {
      "text/plain": [
       "<pyspark.broadcast.Broadcast at 0x7fe5df941828>"
      ]
     },
     "execution_count": 28,
     "metadata": {},
     "output_type": "execute_result"
    }
   ],
   "source": [
    "bc_zones = spark.sparkContext.broadcast(gdf_zones)\n",
    "bc_zones"
   ]
  },
  {
   "cell_type": "code",
   "execution_count": 29,
   "metadata": {},
   "outputs": [],
   "source": [
    "def zone_contains_v2_df(rows):\n",
    "    points = list()\n",
    "    for row in rows: \n",
    "        points.append([row[\"lng\"], row[\"lat\"], row[\"start_count\"], row[\"end_count\"]])\n",
    "    if len(points) == 0:\n",
    "        return list()\n",
    "    df_points_pn = pd.DataFrame(points, columns=[\"lng\", \"lat\", \"start_count\", \"end_count\"])\n",
    "    gdf_points = gpd.GeoDataFrame(df_points_pn, \n",
    "                                  geometry=gpd.points_from_xy(df_points_pn[\"lng\"],\n",
    "                                                              df_points_pn[\"lat\"]))\n",
    "    for index, item in sjoin(gdf_points, bc_zones.value, how=\"left\").iterrows():\n",
    "        yield Row(id=item[\"location_id\"], zone=item[\"zone\"], start_c = item[\"start_count\"], end_c = item[\"end_count\"])"
   ]
  },
  {
   "cell_type": "markdown",
   "metadata": {},
   "source": [
    "Количество поездок для каждого квартала, отсортированный по убыванию количества начала поездок"
   ]
  },
  {
   "cell_type": "code",
   "execution_count": 30,
   "metadata": {},
   "outputs": [
    {
     "name": "stdout",
     "output_type": "stream",
     "text": [
      "+---+--------------------+-----------+---------+\n",
      "| id|                zone|start_count|end_count|\n",
      "+---+--------------------+-----------+---------+\n",
      "| 79|        East Village|      43333|    43170|\n",
      "| 68|        East Chelsea|      38967|    39395|\n",
      "|170|         Murray Hill|      32572|    32578|\n",
      "|234|            Union Sq|      30527|    31464|\n",
      "|113|Greenwich Village...|      26485|    27054|\n",
      "+---+--------------------+-----------+---------+\n",
      "only showing top 5 rows\n",
      "\n"
     ]
    }
   ],
   "source": [
    "df_zones_count = df_stations_count.rdd\\\n",
    "    .mapPartitions(zone_contains_v2_df).toDF()\\\n",
    "    .groupBy(\"id\", \"zone\")\\\n",
    "    .agg(F.sum(\"start_c\").alias(\"start_count\"), F.sum(\"end_c\").alias(\"end_count\"))\\\n",
    "    .sort(\"start_count\", ascending = False)\n",
    "\n",
    "df_zones_count.show(5)"
   ]
  },
  {
   "cell_type": "markdown",
   "metadata": {},
   "source": [
    "Количество поездок для каждого квартала, отсортированный по убыванию количества завершения поездок"
   ]
  },
  {
   "cell_type": "code",
   "execution_count": 31,
   "metadata": {},
   "outputs": [
    {
     "name": "stdout",
     "output_type": "stream",
     "text": [
      "+---+--------------------+-----------+---------+\n",
      "| id|                zone|start_count|end_count|\n",
      "+---+--------------------+-----------+---------+\n",
      "| 79|        East Village|      43333|    43170|\n",
      "| 68|        East Chelsea|      38967|    39395|\n",
      "|170|         Murray Hill|      32572|    32578|\n",
      "|234|            Union Sq|      30527|    31464|\n",
      "|113|Greenwich Village...|      26485|    27054|\n",
      "+---+--------------------+-----------+---------+\n",
      "only showing top 5 rows\n",
      "\n"
     ]
    }
   ],
   "source": [
    "df_zones_count.sort(\"end_count\", ascending = False).show(5)"
   ]
  },
  {
   "cell_type": "markdown",
   "metadata": {},
   "source": [
    "<h4> Task 1.4 </h4>"
   ]
  },
  {
   "cell_type": "code",
   "execution_count": 32,
   "metadata": {},
   "outputs": [
    {
     "data": {
      "text/html": [
       "<div>\n",
       "<style scoped>\n",
       "    .dataframe tbody tr th:only-of-type {\n",
       "        vertical-align: middle;\n",
       "    }\n",
       "\n",
       "    .dataframe tbody tr th {\n",
       "        vertical-align: top;\n",
       "    }\n",
       "\n",
       "    .dataframe thead th {\n",
       "        text-align: right;\n",
       "    }\n",
       "</style>\n",
       "<table border=\"1\" class=\"dataframe\">\n",
       "  <thead>\n",
       "    <tr style=\"text-align: right;\">\n",
       "      <th></th>\n",
       "      <th>id</th>\n",
       "      <th>zone</th>\n",
       "      <th>start_count</th>\n",
       "      <th>end_count</th>\n",
       "    </tr>\n",
       "  </thead>\n",
       "  <tbody>\n",
       "    <tr>\n",
       "      <th>0</th>\n",
       "      <td>79</td>\n",
       "      <td>East Village</td>\n",
       "      <td>43333.0</td>\n",
       "      <td>43170</td>\n",
       "    </tr>\n",
       "    <tr>\n",
       "      <th>1</th>\n",
       "      <td>68</td>\n",
       "      <td>East Chelsea</td>\n",
       "      <td>38967.0</td>\n",
       "      <td>39395</td>\n",
       "    </tr>\n",
       "    <tr>\n",
       "      <th>2</th>\n",
       "      <td>170</td>\n",
       "      <td>Murray Hill</td>\n",
       "      <td>32572.0</td>\n",
       "      <td>32578</td>\n",
       "    </tr>\n",
       "    <tr>\n",
       "      <th>3</th>\n",
       "      <td>234</td>\n",
       "      <td>Union Sq</td>\n",
       "      <td>30527.0</td>\n",
       "      <td>31464</td>\n",
       "    </tr>\n",
       "    <tr>\n",
       "      <th>4</th>\n",
       "      <td>113</td>\n",
       "      <td>Greenwich Village North</td>\n",
       "      <td>26485.0</td>\n",
       "      <td>27054</td>\n",
       "    </tr>\n",
       "  </tbody>\n",
       "</table>\n",
       "</div>"
      ],
      "text/plain": [
       "    id                     zone  start_count  end_count\n",
       "0   79             East Village      43333.0      43170\n",
       "1   68             East Chelsea      38967.0      39395\n",
       "2  170              Murray Hill      32572.0      32578\n",
       "3  234                 Union Sq      30527.0      31464\n",
       "4  113  Greenwich Village North      26485.0      27054"
      ]
     },
     "execution_count": 32,
     "metadata": {},
     "output_type": "execute_result"
    }
   ],
   "source": [
    "df_zones_count_pn = df_zones_count.toPandas()\n",
    "df_zones_count_pn.head(5)"
   ]
  },
  {
   "cell_type": "markdown",
   "metadata": {},
   "source": [
    "Картограмма начала поездок"
   ]
  },
  {
   "cell_type": "code",
   "execution_count": 33,
   "metadata": {},
   "outputs": [
    {
     "data": {
      "text/html": [
       "\n",
       "        <iframe\n",
       "            width=\"100%\"\n",
       "            height=\"750px\"\n",
       "            src=\"index.html\"\n",
       "            frameborder=\"0\"\n",
       "            allowfullscreen\n",
       "        ></iframe>\n",
       "        "
      ],
      "text/plain": [
       "<IPython.lib.display.IFrame at 0x7fe5df83e470>"
      ]
     },
     "execution_count": 33,
     "metadata": {},
     "output_type": "execute_result"
    }
   ],
   "source": [
    "m = folium.Map()\n",
    "\n",
    "folium.Choropleth(\n",
    "    geo_data=zones_geojson,\n",
    "    data=df_zones_count_pn,\n",
    "    columns=[\"id\", \"start_count\"], #2 столбца\n",
    "    name=\"Number of start trips\",\n",
    "    legend_name=\"Number of trips\",\n",
    "    key_on=\"feature.properties.location_id\",\n",
    "    highlight=True,\n",
    "    nan_fill_color=\"grey\",\n",
    "    nan_fill_opacity=0.1,\n",
    "    fill_color=\"PuRd\",\n",
    "    fill_opacity=0.7,\n",
    "    line_opacity=0.2,\n",
    ").add_to(m)\n",
    "m.fit_bounds(m.get_bounds())\n",
    "embed_map(m)"
   ]
  },
  {
   "cell_type": "markdown",
   "metadata": {},
   "source": [
    "Картограмма завершения поездок"
   ]
  },
  {
   "cell_type": "code",
   "execution_count": 27,
   "metadata": {},
   "outputs": [
    {
     "data": {
      "text/html": [
       "\n",
       "        <iframe\n",
       "            width=\"100%\"\n",
       "            height=\"750px\"\n",
       "            src=\"index.html\"\n",
       "            frameborder=\"0\"\n",
       "            allowfullscreen\n",
       "        ></iframe>\n",
       "        "
      ],
      "text/plain": [
       "<IPython.lib.display.IFrame at 0x7f2b482962e8>"
      ]
     },
     "execution_count": 27,
     "metadata": {},
     "output_type": "execute_result"
    }
   ],
   "source": [
    "m2 = folium.Map()\n",
    "\n",
    "folium.Choropleth(\n",
    "    geo_data=zones_geojson,\n",
    "    data=df_zones_count_pn,\n",
    "    columns=[\"id\", \"end_count\"], #2 столбца\n",
    "    name=\"Number of end trips\",\n",
    "    legend_name=\"Number of trips\",\n",
    "    key_on=\"feature.properties.location_id\",\n",
    "    highlight=True,\n",
    "    nan_fill_color=\"grey\",\n",
    "    nan_fill_opacity=0.1,\n",
    "    fill_color=\"YlOrRd\",\n",
    "    fill_opacity=0.7,\n",
    "    line_opacity=0.2,\n",
    ").add_to(m2)\n",
    "m2.fit_bounds(m.get_bounds())\n",
    "embed_map(m2)"
   ]
  },
  {
   "cell_type": "markdown",
   "metadata": {},
   "source": [
    "<a name=\"3\"></a>\n",
    "<h3>Task 2</h3>"
   ]
  },
  {
   "cell_type": "code",
   "execution_count": 28,
   "metadata": {},
   "outputs": [
    {
     "data": {
      "text/plain": [
       "DataFrame[tripduration: int, starttime: timestamp, stoptime: timestamp, start station id: string, start station name: string, start station latitude: double, start station longitude: double, end station id: string, end station name: string, end station latitude: double, end station longitude: double, bikeid: int, usertype: string, birth year: int, gender: int]"
      ]
     },
     "execution_count": 28,
     "metadata": {},
     "output_type": "execute_result"
    }
   ],
   "source": [
    "df_trips"
   ]
  },
  {
   "cell_type": "code",
   "execution_count": 29,
   "metadata": {},
   "outputs": [],
   "source": [
    "filter_expr = (F.col(\"start_lat\") != F.col(\"end_lat\")) & (F.col(\"start_lng\") != F.col(\"end_lng\"))"
   ]
  },
  {
   "cell_type": "code",
   "execution_count": 39,
   "metadata": {},
   "outputs": [
    {
     "name": "stdout",
     "output_type": "stream",
     "text": [
      "+--------+-----------------+-----------------+------+-----------------+------------------+\n",
      "|start_id|        start_lat|        start_lng|end_id|          end_lat|           end_lng|\n",
      "+--------+-----------------+-----------------+------+-----------------+------------------+\n",
      "|    3494|        40.797911|         -73.9423|  3501|       40.8014866|       -73.9442507|\n",
      "|     438|      40.72779126|     -73.98564945|   236|       40.7284186|      -73.98713956|\n",
      "|    3571|        40.676368|       -73.952918|  3549|        40.678045|        -73.962408|\n",
      "|     167|       40.7489006|     -73.97604882|   477|      40.75640548|       -73.9900262|\n",
      "|    3458|40.76309387270797|-73.9783501625061|  3443|40.76132983124814|-73.97982001304626|\n",
      "+--------+-----------------+-----------------+------+-----------------+------------------+\n",
      "only showing top 5 rows\n",
      "\n"
     ]
    }
   ],
   "source": [
    "df_trips_coord = df_trips.select(F.col(\"start station id\").alias(\"start_id\"),\n",
    "                              F.col(\"start station latitude\").alias(\"start_lat\"), \n",
    "                              F.col(\"start station longitude\").alias(\"start_lng\"),\n",
    "                              F.col(\"end station id\").alias(\"end_id\"),\n",
    "                              F.col(\"end station latitude\").alias(\"end_lat\"), \n",
    "                              F.col(\"end station longitude\").alias(\"end_lng\"))\\\n",
    "                        .where(filter_expr)\n",
    "\n",
    "df_trips_coord.show(5)"
   ]
  },
  {
   "cell_type": "code",
   "execution_count": 40,
   "metadata": {},
   "outputs": [],
   "source": [
    "def distance(data):\n",
    "    lat1 = data[0]\n",
    "    lng1 = data[1]\n",
    "    lat2 = data[2]\n",
    "    lng2 = data[3]\n",
    "    p = 0.017453292519943295\n",
    "    a = 0.5 - cos((lat2 - lat1) * p)/2 + cos(lat1 * p) * cos(lat2 * p) * (1 - cos((lng2 - lng1) * p)) / 2\n",
    "    return 12742 * asin(sqrt(a)) * 1000\n",
    "    \n",
    "    \n",
    "distance_udf = F.udf(distance, DoubleType())"
   ]
  },
  {
   "cell_type": "code",
   "execution_count": 41,
   "metadata": {},
   "outputs": [
    {
     "name": "stdout",
     "output_type": "stream",
     "text": [
      "+--------+-----------------+-----------------+------+-----------------+------------------+------------------+\n",
      "|start_id|        start_lat|        start_lng|end_id|          end_lat|           end_lng|         trip_dist|\n",
      "+--------+-----------------+-----------------+------+-----------------+------------------+------------------+\n",
      "|    3494|        40.797911|         -73.9423|  3501|       40.8014866|       -73.9442507|430.16041257402225|\n",
      "|     438|      40.72779126|     -73.98564945|   236|       40.7284186|      -73.98713956|143.63994354824555|\n",
      "|    3571|        40.676368|       -73.952918|  3549|        40.678045|        -73.962408| 821.7251364836256|\n",
      "|     167|       40.7489006|     -73.97604882|   477|      40.75640548|       -73.9900262|1443.1216859041303|\n",
      "|    3458|40.76309387270797|-73.9783501625061|  3443|40.76132983124814|-73.97982001304626|231.94966562338428|\n",
      "+--------+-----------------+-----------------+------+-----------------+------------------+------------------+\n",
      "only showing top 5 rows\n",
      "\n"
     ]
    }
   ],
   "source": [
    "df_trips_dist = df_trips_coord.withColumn(\"trip_dist\", distance_udf(F.array('start_lat', 'start_lng', 'end_lat', 'end_lng')))\n",
    "df_trips_dist.show(5)"
   ]
  },
  {
   "cell_type": "markdown",
   "metadata": {},
   "source": [
    "Медиана:"
   ]
  },
  {
   "cell_type": "code",
   "execution_count": 42,
   "metadata": {},
   "outputs": [
    {
     "data": {
      "text/plain": [
       "1262.874571344554"
      ]
     },
     "execution_count": 42,
     "metadata": {},
     "output_type": "execute_result"
    }
   ],
   "source": [
    "median = df_trips_dist.approxQuantile(\"trip_dist\", [0.5], 0)[0]\n",
    "median"
   ]
  },
  {
   "cell_type": "code",
   "execution_count": 43,
   "metadata": {},
   "outputs": [
    {
     "name": "stdout",
     "output_type": "stream",
     "text": [
      "+--------+-----------------+\n",
      "|summarry|        trip_dist|\n",
      "+--------+-----------------+\n",
      "|  median|1262.874571344554|\n",
      "+--------+-----------------+\n",
      "\n"
     ]
    }
   ],
   "source": [
    "a = spark.createDataFrame([('median', median)], ['summarry', 'trip_dist'])\n",
    "a.show()"
   ]
  },
  {
   "cell_type": "markdown",
   "metadata": {},
   "source": [
    "Все показатели:"
   ]
  },
  {
   "cell_type": "code",
   "execution_count": 44,
   "metadata": {},
   "outputs": [
    {
     "name": "stdout",
     "output_type": "stream",
     "text": [
      "+-------+------------------+\n",
      "|summary|         trip_dist|\n",
      "+-------+------------------+\n",
      "|  count|            928612|\n",
      "|   mean|1640.3742164463074|\n",
      "| stddev|1288.6756355029727|\n",
      "|    min| 36.73587142648394|\n",
      "|    max|15326.431486590483|\n",
      "| median| 1262.874571344554|\n",
      "+-------+------------------+\n",
      "\n"
     ]
    }
   ],
   "source": [
    "df_trips_dist.describe(\"trip_dist\").union(a).show()"
   ]
  },
  {
   "cell_type": "markdown",
   "metadata": {},
   "source": [
    "<a name=\"4\"></a>\n",
    "<h3>Task 3</h3>"
   ]
  },
  {
   "cell_type": "code",
   "execution_count": 36,
   "metadata": {},
   "outputs": [
    {
     "data": {
      "text/plain": [
       "DataFrame[tripduration: int, starttime: timestamp, stoptime: timestamp, start station id: string, start station name: string, start station latitude: double, start station longitude: double, end station id: string, end station name: string, end station latitude: double, end station longitude: double, bikeid: int, usertype: string, birth year: int, gender: int]"
      ]
     },
     "execution_count": 36,
     "metadata": {},
     "output_type": "execute_result"
    }
   ],
   "source": [
    "df_trips"
   ]
  },
  {
   "cell_type": "code",
   "execution_count": 37,
   "metadata": {},
   "outputs": [
    {
     "name": "stdout",
     "output_type": "stream",
     "text": [
      "+----------+---------------+\n",
      "|station_id|start_day_count|\n",
      "+----------+---------------+\n",
      "|       296|             28|\n",
      "|      3414|             28|\n",
      "|      3606|             28|\n",
      "|       467|             28|\n",
      "|      3441|             28|\n",
      "+----------+---------------+\n",
      "only showing top 5 rows\n",
      "\n"
     ]
    }
   ],
   "source": [
    "df_trips_start_time = df_trips.select(F.col(\"start station id\").alias(\"station_id\"), \n",
    "                                    F.to_date(F.col(\"starttime\")).alias(\"start_day\"))\\\n",
    "                                .distinct()\\\n",
    "                                .groupBy(\"station_id\")\\\n",
    "                                .agg(F.count(\"start_day\").alias(\"start_day_count\"))\n",
    "\n",
    "df_trips_start_time.show(5)"
   ]
  },
  {
   "cell_type": "code",
   "execution_count": 38,
   "metadata": {},
   "outputs": [
    {
     "name": "stdout",
     "output_type": "stream",
     "text": [
      "+----------+--------------+\n",
      "|station_id|stop_day_count|\n",
      "+----------+--------------+\n",
      "|       296|            29|\n",
      "|      3414|            28|\n",
      "|      3606|            28|\n",
      "|       467|            29|\n",
      "|      3441|            28|\n",
      "+----------+--------------+\n",
      "only showing top 5 rows\n",
      "\n"
     ]
    }
   ],
   "source": [
    "df_trips_stop_time = df_trips.select(F.col(\"end station id\").alias(\"station_id\"), \n",
    "                                  F.to_date(F.col(\"stoptime\")).alias(\"stop_day\"))\\\n",
    "                             .distinct()\\\n",
    "                             .groupBy(\"station_id\")\\\n",
    "                             .agg(F.count(\"stop_day\").alias(\"stop_day_count\"))\n",
    "\n",
    "df_trips_stop_time.show(5)"
   ]
  },
  {
   "cell_type": "code",
   "execution_count": 110,
   "metadata": {},
   "outputs": [
    {
     "name": "stdout",
     "output_type": "stream",
     "text": [
      "+----+------------------+------------------+-----------+---------+\n",
      "|  id|               lat|               lng|start_count|end_count|\n",
      "+----+------------------+------------------+-----------+---------+\n",
      "| 296|       40.71413089|       -73.9970468|       1795|     1825|\n",
      "|3414|40.680944723477296|-73.97567331790923|        656|      681|\n",
      "|3606|          40.74252|        -73.948852|        215|      224|\n",
      "| 467|       40.68312489|      -73.97895137|       1276|     1312|\n",
      "|3368|        40.6728155|      -73.98352355|        745|      769|\n",
      "+----+------------------+------------------+-----------+---------+\n",
      "only showing top 5 rows\n",
      "\n"
     ]
    }
   ],
   "source": [
    "df_stations_count.show(5)"
   ]
  },
  {
   "cell_type": "code",
   "execution_count": 121,
   "metadata": {},
   "outputs": [
    {
     "name": "stdout",
     "output_type": "stream",
     "text": [
      "+----------+---------------+--------------+\n",
      "|station_id|avg_count_start|avg_count_stop|\n",
      "+----------+---------------+--------------+\n",
      "|       296|           64.0|          63.0|\n",
      "|      3414|           23.0|          24.0|\n",
      "|      3606|            8.0|           8.0|\n",
      "|       467|           46.0|          45.0|\n",
      "|      3368|           27.0|          27.0|\n",
      "|      3441|            9.0|          10.0|\n",
      "|      3517|           11.0|          11.0|\n",
      "|      3526|           22.0|          22.0|\n",
      "|      3121|           10.0|          11.0|\n",
      "|      3249|           12.0|          12.0|\n",
      "|      3312|           28.0|          28.0|\n",
      "|       447|           90.0|          89.0|\n",
      "|      3057|           17.0|          16.0|\n",
      "|       307|          108.0|         107.0|\n",
      "|      3167|          101.0|          96.0|\n",
      "|      3491|           14.0|          14.0|\n",
      "|      3179|            9.0|           9.0|\n",
      "|      3241|           16.0|          15.0|\n",
      "|      3299|            9.0|           9.0|\n",
      "|       334|          104.0|         104.0|\n",
      "+----------+---------------+--------------+\n",
      "only showing top 20 rows\n",
      "\n"
     ]
    }
   ],
   "source": [
    "avg_by_day = df_stations_count.select(F.col(\"id\").alias(\"station_id\"), \n",
    "                                 F.col(\"start_count\"), F.col(\"end_count\"))\\\n",
    "                            .join(df_trips_start_time, on=\"station_id\", how=\"left\")\\\n",
    "                            .join(df_trips_stop_time, on=\"station_id\", how=\"left\")\\\n",
    "                            .withColumn(\"avg_start_count_day\", F.round(F.col(\"start_count\")/F.col(\"start_day_count\")))\\\n",
    "                            .withColumn(\"avg_stop_count_day\", F.round(F.col(\"end_count\")/F.col(\"stop_day_count\")))\\\n",
    "                            .select((F.col(\"station_id\")),\n",
    "                            (F.col(\"avg_start_count_day\").alias(\"avg_count_start\")),\n",
    "                            (F.col(\"avg_stop_count_day\").alias(\"avg_count_stop\")))\n",
    "\n",
    "avg_by_day.show(20)"
   ]
  },
  {
   "cell_type": "code",
   "execution_count": 122,
   "metadata": {},
   "outputs": [],
   "source": [
    "# spark.stop()"
   ]
  }
 ],
 "metadata": {
  "kernelspec": {
   "display_name": "Python 3",
   "language": "python",
   "name": "python3"
  },
  "language_info": {
   "codemirror_mode": {
    "name": "ipython",
    "version": 3
   },
   "file_extension": ".py",
   "mimetype": "text/x-python",
   "name": "python",
   "nbconvert_exporter": "python",
   "pygments_lexer": "ipython3",
   "version": "3.7.3"
  }
 },
 "nbformat": 4,
 "nbformat_minor": 2
}
