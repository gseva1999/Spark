{
 "cells": [
  {
   "cell_type": "markdown",
   "metadata": {},
   "source": [
    "<h2><center> Homework №1 </center></h2>"
   ]
  },
  {
   "cell_type": "markdown",
   "metadata": {},
   "source": [
    "<h3>Contents</h3>\n",
    "        <li><a href=\"#1\">Environment Setup</a></li>\n",
    "        <li><a href=\"#2\">Task 1</a></li>\n",
    "        <li><a href=\"#3\">Task 2</a></li>\n",
    "        <li><a href=\"#4\">Task 3</a></li>"
   ]
  },
  {
   "cell_type": "markdown",
   "metadata": {},
   "source": [
    "<a name=\"1\"></a>\n",
    "<h3>Environment Setup</h3>"
   ]
  },
  {
   "cell_type": "code",
   "execution_count": 1,
   "metadata": {},
   "outputs": [],
   "source": [
    "import os\n",
    "import sys\n",
    "\n",
    "os.environ[\"SPARK_HOME\"]=\"/home/ubuntu/BigData/spark\"\n",
    "os.environ[\"PYSPARK_PYTHON\"]=\"/home/ubuntu/ML/anaconda3/bin/python\"\n",
    "os.environ[\"PYSPARK_DRIVER_PYTHON\"]=\"/home/ubuntu/ML/anaconda3/bin/python\"\n",
    "\n",
    "spark_home = os.environ.get(\"SPARK_HOME\")\n",
    "sys.path.insert(0, os.path.join(spark_home, \"python\"))\n",
    "sys.path.insert(0, os.path.join(spark_home, \"python/lib/py4j-0.10.7-src.zip\"))"
   ]
  },
  {
   "cell_type": "code",
   "execution_count": 2,
   "metadata": {},
   "outputs": [],
   "source": [
    "import pyspark"
   ]
  },
  {
   "cell_type": "code",
   "execution_count": 3,
   "metadata": {},
   "outputs": [],
   "source": [
    "conf = (\n",
    "    pyspark.SparkConf()\n",
    "        .set(\"spark.executor.memory\", \"1g\")\n",
    "        .set(\"spark.executor.core\", \"2\")\n",
    "        .set(\"spark.driver.host\", \"127.0.0.1\")  # if you have some troubles with address binding\n",
    "        .setMaster(\"local[2]\")\n",
    ")\n",
    "\n",
    "sc = pyspark.SparkContext(conf=conf)"
   ]
  },
  {
   "cell_type": "code",
   "execution_count": 4,
   "metadata": {},
   "outputs": [
    {
     "data": {
      "text/html": [
       "\n",
       "        <div>\n",
       "            <p><b>SparkContext</b></p>\n",
       "\n",
       "            <p><a href=\"http://127.0.0.1:4040\">Spark UI</a></p>\n",
       "\n",
       "            <dl>\n",
       "              <dt>Version</dt>\n",
       "                <dd><code>v2.4.6</code></dd>\n",
       "              <dt>Master</dt>\n",
       "                <dd><code>local[2]</code></dd>\n",
       "              <dt>AppName</dt>\n",
       "                <dd><code>pyspark-shell</code></dd>\n",
       "            </dl>\n",
       "        </div>\n",
       "        "
      ],
      "text/plain": [
       "<SparkContext master=local[2] appName=pyspark-shell>"
      ]
     },
     "execution_count": 4,
     "metadata": {},
     "output_type": "execute_result"
    }
   ],
   "source": [
    "sc"
   ]
  },
  {
   "cell_type": "code",
   "execution_count": 2,
   "metadata": {},
   "outputs": [],
   "source": [
    "# sc.stop()"
   ]
  },
  {
   "cell_type": "markdown",
   "metadata": {},
   "source": [
    "<a name=\"2\"></a>\n",
    "<h3>Task 1</h3>"
   ]
  },
  {
   "cell_type": "markdown",
   "metadata": {},
   "source": [
    "<h5> 1.1 Расcтояние между заведениями и заданной точкой</h5>"
   ]
  },
  {
   "cell_type": "code",
   "execution_count": 5,
   "metadata": {
    "scrolled": true
   },
   "outputs": [
    {
     "data": {
      "text/plain": [
       "[('Шоколадница', 4.481040075007144),\n",
       " ('МУ-МУ', 4.411446758630132),\n",
       " ('КОМБИНАТ ПИТАНИЯ МГТУ ИМ.Н.Э.БАУМАНА', 4.141565403195976),\n",
       " ('Дом 12', 2.9767774781758223),\n",
       " ('Чито-Ра', 3.0348415747792776),\n",
       " ('Бар- буфет «Николай»', 2.828729205783542),\n",
       " ('Флорентини', 2.8885782352411793),\n",
       " ('Beer Gik', 1.5653137373473913),\n",
       " ('Погребок', 1.5653137373473913),\n",
       " ('Пробка Гриль', 1.6499887343355246)]"
      ]
     },
     "execution_count": 5,
     "metadata": {},
     "output_type": "execute_result"
    }
   ],
   "source": [
    "from math import cos, asin, sqrt\n",
    "# import csv\n",
    "\n",
    "\n",
    "coordinate = (55.751244, 37.618423)\n",
    "\n",
    "\n",
    "def data_filter(data_csv):\n",
    "    data_tuple = data_csv.split(\",\")\n",
    "    len_data_tuple = len(data_tuple)\n",
    "    return data_tuple[1], float(data_tuple[len_data_tuple-4]), float(data_tuple[len_data_tuple-5])\n",
    "\n",
    "\n",
    "def distance(data_fil_rdd):\n",
    "    lat1 = data_fil_rdd[1]\n",
    "    lng1 = data_fil_rdd[2]\n",
    "    lat2 = coordinate[0]\n",
    "    lng2 = coordinate[1]\n",
    "    p = 0.017453292519943295\n",
    "    a = 0.5 - cos((lat2 - lat1) * p)/2 + cos(lat1 * p) * cos(lat2 * p) * (1 - cos((lng2 - lng1) * p)) / 2\n",
    "    return data_fil_rdd[0], 12742 * asin(sqrt(a))\n",
    "\n",
    "\n",
    "\n",
    "FILE_PATH_PLACE = \"file:///home/ubuntu/datasets/places.csv\"\n",
    "data_rdd = sc.textFile(FILE_PATH_PLACE)\n",
    "\n",
    "data_fil_rdd = data_rdd.map(data_filter)\n",
    "data_dist_rdd = data_fil_rdd.map(distance)\n",
    "data_dist_rdd.take(10)"
   ]
  },
  {
   "cell_type": "markdown",
   "metadata": {},
   "source": [
    "<h5> 1.2 Расстояние между заведениями</h5>"
   ]
  },
  {
   "cell_type": "code",
   "execution_count": 6,
   "metadata": {},
   "outputs": [
    {
     "data": {
      "text/plain": [
       "[('Шоколадница', 'МУ-МУ', 0.16132427370787492),\n",
       " ('Шоколадница', 'КОМБИНАТ ПИТАНИЯ МГТУ ИМ.Н.Э.БАУМАНА', 0.8442372577392393),\n",
       " ('Шоколадница', 'Дом 12', 1.580437549471957),\n",
       " ('Шоколадница', 'Чито-Ра', 1.5591072632838934),\n",
       " ('Шоколадница', 'Бар- буфет «Николай»', 1.6543599984025603),\n",
       " ('Шоколадница', 'Флорентини', 1.594263937811669),\n",
       " ('Шоколадница', 'Beer Gik', 3.025434509016017),\n",
       " ('Шоколадница', 'Погребок', 3.025434509016017),\n",
       " ('Шоколадница', 'Пробка Гриль', 2.9369422593505727),\n",
       " ('Шоколадница', 'TEMPO DI PASTA', 2.941067369420882)]"
      ]
     },
     "execution_count": 6,
     "metadata": {},
     "output_type": "execute_result"
    }
   ],
   "source": [
    "def distance_between_places(data):\n",
    "    lat1 = data[0][0][1]\n",
    "    lng1 = data[0][0][2]\n",
    "    lat2 = data[1][0][1]\n",
    "    lng2 = data[1][0][2]\n",
    "    p = 0.017453292519943295\n",
    "    a = 0.5 - cos((lat2 - lat1) * p)/2 + cos(lat1 * p) * cos(lat2 * p) * (1 - cos((lng2 - lng1) * p)) / 2\n",
    "    return data[0][0][0], data[1][0][0], 12742 * asin(sqrt(a))\n",
    "\n",
    "\n",
    "data_dist_betw_rdd = (\n",
    "    data_fil_rdd.zipWithIndex()\n",
    "    .cartesian(data_fil_rdd.zipWithIndex())\n",
    "    .filter(lambda x: x[0][1] < x[1][1])\n",
    "    .map(distance_between_places)\n",
    ")\n",
    "data_dist_betw_rdd.take(10)"
   ]
  },
  {
   "cell_type": "markdown",
   "metadata": {},
   "source": [
    "<h5> 1.3 Наиболее близкие и наиболее отдаленные заведения </h5>"
   ]
  },
  {
   "cell_type": "markdown",
   "metadata": {},
   "source": [
    "closest places"
   ]
  },
  {
   "cell_type": "code",
   "execution_count": 7,
   "metadata": {},
   "outputs": [
    {
     "data": {
      "text/plain": [
       "[('Beer Gik', 'Погребок', 0.0),\n",
       " ('TEMPO DI PASTA', 'Хлеб насущный', 0.0),\n",
       " ('Beer Gik', 'Kozlovna', 0.0),\n",
       " ('Погребок', 'Kozlovna', 0.0),\n",
       " ('Beer Gik', 'Па-Паэлья', 0.0),\n",
       " ('Погребок', 'Па-Паэлья', 0.0),\n",
       " ('Глав Пив Маг', 'Beermood', 0.0),\n",
       " ('Блэк милк', 'Дабл Би', 0.0),\n",
       " ('Jeffreys coffee', 'Мегобари', 0.0),\n",
       " ('Блэк милк', 'Коленки Пчелы', 0.0)]"
      ]
     },
     "execution_count": 7,
     "metadata": {},
     "output_type": "execute_result"
    }
   ],
   "source": [
    "data_sorted_T_rdd = data_dist_betw_rdd.sortBy(lambda x: x[2], ascending = True)\n",
    "data_sorted_T_rdd.take(10)"
   ]
  },
  {
   "cell_type": "markdown",
   "metadata": {},
   "source": [
    "the most remote places"
   ]
  },
  {
   "cell_type": "code",
   "execution_count": 8,
   "metadata": {},
   "outputs": [
    {
     "data": {
      "text/plain": [
       "[('МНИТИ', 'Calabash Club', 5.456078051682729),\n",
       " ('МНИТИ', 'Залечь на дно', 5.456078051682729),\n",
       " ('МНИТИ', 'Политех', 5.456078051682729),\n",
       " ('МНИТИ', 'Антикафе Checkpoint', 5.456078051682729),\n",
       " ('МНИТИ', 'Шоколадница', 5.402045734207267),\n",
       " ('МНИТИ', 'Мареа', 5.397580177699907),\n",
       " ('МНИТИ', 'БИБЛИОТЕКА Shisha Lounge', 5.394562231716176),\n",
       " ('МНИТИ', 'Му-Му', 5.394562231716176),\n",
       " ('МНИТИ', 'Стейк Хаус «Бизон»', 5.393724300516158),\n",
       " ('МНИТИ', 'Jimmy Poy', 5.3820992042757405)]"
      ]
     },
     "execution_count": 8,
     "metadata": {},
     "output_type": "execute_result"
    }
   ],
   "source": [
    "data_sorted_F_rdd = data_dist_betw_rdd.sortBy(lambda x: x[2], ascending = False)\n",
    "data_sorted_F_rdd.take(10)"
   ]
  },
  {
   "cell_type": "markdown",
   "metadata": {},
   "source": [
    "<a name=\"3\"></a>\n",
    "<h3> Task 2 </h3>"
   ]
  },
  {
   "cell_type": "code",
   "execution_count": 9,
   "metadata": {},
   "outputs": [
    {
     "data": {
      "text/plain": [
       "[('B001BLN91Y',\n",
       "  'Maxtor OneTouch 4 - 1 TB USB 2.0 Desktop External Hard Drive STM310005OTA3E1-RK',\n",
       "  1.0),\n",
       " ('B003KIQTXG',\n",
       "  'NEEWER&reg; Photographic Barn Door &amp; Honeycomb Grid &amp; Gel Set for Alienbees Alienbee Flash',\n",
       "  1.0),\n",
       " ('B00111JODG',\n",
       "  'StarTech HDMISPL1HH 1 feet Standard HDMI Cable - 1x HDMI (M) to 2x HDMI (F) (Discontinued by Manufacturer)',\n",
       "  1.0),\n",
       " ('B000NNFS4C',\n",
       "  'RCA DRC8335 DVD Recorder &amp; VCR Combo With Built-In Tuner',\n",
       "  1.0),\n",
       " ('B000H13L4Y', 'ATI TV Wonder 200 PCI Video Card w/PVR Capabilities', 1.0),\n",
       " ('B000F1ORW6', 'GE 24746 Futura HDTV Ready Antenna', 1.0),\n",
       " ('B001T9N0R6',\n",
       "  'Zeikos 57-in-1 USB 2.0 Flash Memory Card Reader ZE-CR201',\n",
       "  1.0),\n",
       " ('B00000JBIA', 'Agfa ePhoto SMILE 0.2MP Digital Camera', 1.0),\n",
       " ('B0013WI5SS', 'Dynex-DX-AP100 Adapter Mini DVI to Mini-DIN', 1.0),\n",
       " ('B004K9CL6S',\n",
       "  'NEW SYLVANIA HD1Z SDSDHCMMC 720P HARD DRIVE POCKET VIDEO DIGITAL CAMERACAMCORDER W4X DIGITAL ZOOM HDMI &amp; 2 LCD PEACOCK BLUE',\n",
       "  1.0)]"
      ]
     },
     "execution_count": 9,
     "metadata": {},
     "output_type": "execute_result"
    }
   ],
   "source": [
    "def json_parser_rev(data):\n",
    "    import json\n",
    "    data_dict = json.loads(data)\n",
    "    return data_dict[\"asin\"], data_dict[\"overall\"]\n",
    "\n",
    "\n",
    "def json_parser_prod(data):\n",
    "    try:\n",
    "        data_dict = eval(data)\n",
    "        return data_dict[\"asin\"], data_dict[\"title\"]\n",
    "    except:\n",
    "        return data_dict[\"asin\"], \"unknown\"\n",
    "\n",
    "\n",
    "rating_threshold = 3\n",
    "rating_threshold_br = sc.broadcast(rating_threshold)\n",
    "\n",
    "\n",
    "FILE_PATH_REVIEWS = \"file:///home/ubuntu/Downloads/Electronics_5.json\"\n",
    "FILE_PATH_PRODUCTS = \"file:///home/ubuntu/Downloads/meta_Electronics.json\"\n",
    "OUTPUT_DIR_PATH = \"file:///home/ubuntu/datasets/output\"\n",
    "\n",
    "\n",
    "data_products_rdd = (\n",
    "    sc.textFile(FILE_PATH_PRODUCTS)\n",
    "    .map(json_parser_prod)\n",
    ")\n",
    "\n",
    "data_output_rdd = (\n",
    "    sc.textFile(FILE_PATH_REVIEWS)\n",
    "    .map(json_parser_rev)\n",
    "    .aggregateByKey((0, 0), \n",
    "                    (lambda x, value: (x[0] + value, x[1] + 1)), \n",
    "                    (lambda x, y: (x[0] + y[0], x[1] + y[1])))\n",
    "    .mapValues(lambda x: x[0]/x[1])                                 # получили средний рейтинг товаров\n",
    "    .join(data_products_rdd)                                        # добавили название продуктов\n",
    "    .map(lambda x: (x[0], x[1][1], x[1][0]))\n",
    "    .filter(lambda x: x[2] < rating_threshold_br.value)             # оставляем товары с рейтингом < 3\n",
    "    .sortBy(lambda x: x[2], ascending = True)                       # сортируем по возрастанию рейтингов\n",
    ")\n",
    "\n",
    "data_output_rdd.take(10)"
   ]
  },
  {
   "cell_type": "code",
   "execution_count": 10,
   "metadata": {},
   "outputs": [],
   "source": [
    "# Remove the output directory\n",
    "OUTPUT_DIR_PATH_ = OUTPUT_DIR_PATH.replace(\"file://\", \"\")\n",
    "!rm -fR $OUTPUT_DIR_PATH_"
   ]
  },
  {
   "cell_type": "code",
   "execution_count": 11,
   "metadata": {},
   "outputs": [],
   "source": [
    "# Save as text file\n",
    "data_output_rdd.map(lambda x: \"{}, {}, {}\".format(x[0], x[1], x[2])).coalesce(1).saveAsTextFile(OUTPUT_DIR_PATH)"
   ]
  },
  {
   "cell_type": "markdown",
   "metadata": {},
   "source": [
    "<a name=\"4\"></a>\n",
    "<h3> Task 3 </h3>"
   ]
  },
  {
   "cell_type": "markdown",
   "metadata": {},
   "source": [
    "<h6>Скалярное произведение</h6>"
   ]
  },
  {
   "cell_type": "code",
   "execution_count": 6,
   "metadata": {},
   "outputs": [
    {
     "data": {
      "text/plain": [
       "[(('190', '1449'), 28.0),\n",
       " (('3788', '3176'), 45.0),\n",
       " (('4239', '215'), 155.5),\n",
       " (('1247', '92259'), 115.75),\n",
       " (('7149', '66203'), 20.0)]"
      ]
     },
     "execution_count": 6,
     "metadata": {},
     "output_type": "execute_result"
    }
   ],
   "source": [
    "from math import sqrt\n",
    "\n",
    "\n",
    "def csv_parser_reting(data_csv):\n",
    "    try:\n",
    "        data_list = data_csv.split(\",\")\n",
    "        return data_list[0], (data_list[1], float(data_list[2]))\n",
    "    except:\n",
    "        return False\n",
    "\n",
    "\n",
    "FILE_PATH_RETINGS = \"file:///home/ubuntu/datasets/ml-latest-small/ratings.csv\"\n",
    "\n",
    "\n",
    "reting_rdd_q = (\n",
    "    sc.textFile(FILE_PATH_RETINGS)\n",
    "    .map(csv_parser_reting)\n",
    "    .filter(lambda x: x != False)\n",
    ")\n",
    "\n",
    "scalar_prod_rdd = (\n",
    "    reting_rdd_q\n",
    "    .join(reting_rdd_q)                                     #(analogue JOIN)\n",
    "    .filter(lambda x: x[1][0][0] != x[1][1][0])             #remove repeats type movie_id1 = mox=vie_id1\n",
    "    .map(lambda x: ((x[1][0][0], x[1][1][0]), x[1][0][1] * x[1][1][1]))\n",
    "    #.filter(lambda x: x[0] == (\"21\", \"32\"))\n",
    "    .reduceByKey(lambda x, y: x + y)                        #('21 32', 820.5)\n",
    ")\n",
    "\n",
    "\n",
    "scalar_prod_rdd.take(5)"
   ]
  },
  {
   "cell_type": "markdown",
   "metadata": {},
   "source": [
    "<h6>Нормализация</h6>"
   ]
  },
  {
   "cell_type": "code",
   "execution_count": 37,
   "metadata": {},
   "outputs": [
    {
     "data": {
      "text/plain": [
       "[(('1', '50'), 3620.1532253483415),\n",
       " (('1', '70'), 1591.272603924293),\n",
       " (('1', '110'), 3751.138777091565),\n",
       " (('1', '157'), 594.3253528161154),\n",
       " (('1', '163'), 1764.2291517827268)]"
      ]
     },
     "execution_count": 37,
     "metadata": {},
     "output_type": "execute_result"
    }
   ],
   "source": [
    "from math import sqrt\n",
    "\n",
    "\n",
    "norm_rdd = (\n",
    "    sc.textFile(FILE_PATH_RETINGS)\n",
    "    .map(csv_parser_reting)\n",
    "    .filter(lambda x: x != False) \n",
    "    .map(lambda x: (x[1][0], x[1][1]))\n",
    "    .map(lambda x: (x[0], x[1]**2))\n",
    "    .reduceByKey(lambda x, y: x + y)\n",
    "    .map(lambda x: (x[0], sqrt(x[1])))\n",
    "    .zipWithIndex()\n",
    ")\n",
    "\n",
    "\n",
    "norm_rdd_cartes = (\n",
    "    norm_rdd\n",
    "    .cartesian(norm_rdd)\n",
    "    .filter(lambda x: x[0][1] < x[1][1])\n",
    "    .map(lambda x: ((x[0][0][0], x[1][0][0]), x[0][0][1]*x[1][0][1]))\n",
    "    #.filter(lambda x: x[0] == (\"21\", \"32\"))\n",
    ")\n",
    "\n",
    "norm_rdd_cartes.take(5)"
   ]
  },
  {
   "cell_type": "markdown",
   "metadata": {},
   "source": [
    "<h6>Косинусное сходство</h6>"
   ]
  },
  {
   "cell_type": "code",
   "execution_count": 29,
   "metadata": {},
   "outputs": [
    {
     "data": {
      "text/plain": [
       "[(('593', '450'), 0.10159164782767661),\n",
       " (('83349', '102033'), 0.31583994587664016),\n",
       " (('1923', '38992'), 0.09042991813254032),\n",
       " (('262', '2114'), 0.13157100311072503),\n",
       " (('524', '322'), 0.13756794271879122)]"
      ]
     },
     "execution_count": 29,
     "metadata": {},
     "output_type": "execute_result"
    }
   ],
   "source": [
    "#import org.apache.spark.storage.StorageLevel\n",
    "\n",
    "\n",
    "cosim_rdd = (\n",
    "    scalar_prod_rdd\n",
    "    .join(norm_rdd_cartes)\n",
    "    .map(lambda x: (x[0], x[1][0]/x[1][1]))\n",
    "    #.persist(StorageLevel.DISK_ONLY)\n",
    ")\n",
    "\n",
    "cosim_rdd.take(5)"
   ]
  },
  {
   "cell_type": "markdown",
   "metadata": {},
   "source": [
    "<h6>Второй вариант реализации нормализации</h6>"
   ]
  },
  {
   "cell_type": "markdown",
   "metadata": {},
   "source": [
    "<h7>Нормализация ver2</h7>"
   ]
  },
  {
   "cell_type": "code",
   "execution_count": 8,
   "metadata": {},
   "outputs": [
    {
     "data": {
      "text/plain": [
       "[('1', 58.77499468311333),\n",
       " ('50', 61.593424973774596),\n",
       " ('70', 27.073972741361768),\n",
       " ('110', 63.822018144211015),\n",
       " ('157', 10.111874208078342)]"
      ]
     },
     "execution_count": 8,
     "metadata": {},
     "output_type": "execute_result"
    }
   ],
   "source": [
    "from math import sqrt\n",
    "\n",
    "\n",
    "norm_rdd_ver2 = (\n",
    "    sc.textFile(FILE_PATH_RETINGS)\n",
    "    .map(csv_parser_reting)\n",
    "    .filter(lambda x: x != False) \n",
    "    .map(lambda x: (x[1][0], x[1][1]))\n",
    "    .map(lambda x: (x[0], x[1]**2))\n",
    "    .reduceByKey(lambda x, y: x + y)\n",
    "    .map(lambda x: (x[0], sqrt(x[1])))\n",
    ")\n",
    "\n",
    "\n",
    "norm_rdd_ver2.take(5)"
   ]
  },
  {
   "cell_type": "markdown",
   "metadata": {},
   "source": [
    "<h7>Косинусное сходство</h7>"
   ]
  },
  {
   "cell_type": "code",
   "execution_count": 11,
   "metadata": {},
   "outputs": [
    {
     "data": {
      "text/plain": [
       "[(('41724', '1617'), 0.08573642792598343),\n",
       " (('41724', '1089'), 0.07152918822181996),\n",
       " (('41724', '3861'), 0.24494897427831783),\n",
       " (('41724', '2707'), 0.15655607277128739),\n",
       " (('41724', '440'), 0.09538239546514966)]"
      ]
     },
     "execution_count": 11,
     "metadata": {},
     "output_type": "execute_result"
    }
   ],
   "source": [
    "cosim_rdd_ver2 = (\n",
    "    scalar_prod_rdd\n",
    "    .map(lambda x: (x[0][0], (x[0][1], x[1])))\n",
    "    .join(norm_rdd_ver2)\n",
    "    .map(lambda x: (x[1][0][0], (x[0], x[1][1], x[1][0][1])))\n",
    "    .join(norm_rdd_ver2)\n",
    "    .map(lambda x: ((x[0], x[1][0][0]), x[1][0][2]/(x[1][1] * x[1][0][1])))\n",
    "    .filter(lambda x: int(x[0][0]) > int(x[0][1]))\n",
    "    #.filter(lambda x: x[0] == (\"4857\", \"2759\") or x[0] == (\"2759\", \"4857\"))\n",
    ")\n",
    "\n",
    "cosim_rdd_ver2.take(5)"
   ]
  },
  {
   "cell_type": "markdown",
   "metadata": {},
   "source": [
    "<h6>Продолжение task 3</h6>"
   ]
  },
  {
   "cell_type": "markdown",
   "metadata": {},
   "source": [
    "<h7>Формирование RDD для фильма с id = 589 </h7>"
   ]
  },
  {
   "cell_type": "code",
   "execution_count": 12,
   "metadata": {},
   "outputs": [
    {
     "data": {
      "text/plain": [
       "[('589', '480', 0.7199832128407866, 'Jurassic Park (1993)'),\n",
       " ('589', '1240', 0.6957236907757963, '\"Terminator'),\n",
       " ('589', '110', 0.6598270010697838, 'Braveheart (1995)'),\n",
       " ('589', '592', 0.6456032142113407, 'Batman (1989)'),\n",
       " ('589', '457', 0.6375608832771722, '\"Fugitive'),\n",
       " ('589', '377', 0.6300924636225894, 'Speed (1994)'),\n",
       " ('589',\n",
       "  '1196',\n",
       "  0.6185297081659638,\n",
       "  'Star Wars: Episode V - The Empire Strikes Back (1980)'),\n",
       " ('589', '380', 0.6111643445364232, 'True Lies (1994)'),\n",
       " ('589', '296', 0.6102841093789623, 'Pulp Fiction (1994)'),\n",
       " ('589', '356', 0.6008861125749383, 'Forrest Gump (1994)')]"
      ]
     },
     "execution_count": 12,
     "metadata": {},
     "output_type": "execute_result"
    }
   ],
   "source": [
    "def csv_parser_movies(data_csv):\n",
    "    try:\n",
    "        data_list = data_csv.split(\",\")\n",
    "        return data_list[0], data_list[1]\n",
    "    except:\n",
    "        False\n",
    "\n",
    "\n",
    "def check_id(data):\n",
    "    if data[0][0] == \"589\":\n",
    "        return data[0][1], (data[0][0], data[1])\n",
    "    else:\n",
    "        return data[0][0], (data[0][1], data[1])\n",
    "    \n",
    "    \n",
    "FILE_PATH_MOVIES = \"file:///home/ubuntu/datasets/ml-latest-small/movies.csv\"\n",
    "\n",
    "\n",
    "movies_rdd = (\n",
    "    sc.textFile(FILE_PATH_MOVIES)\n",
    "    .map(csv_parser_movies)\n",
    "    .filter(lambda x: x[0] != \"movieId\" and x != False)\n",
    ")\n",
    "\n",
    "\n",
    "movieid_589_rdd = (\n",
    "    cosim_rdd_ver2\n",
    "    .filter(lambda x: x[0][0] == \"589\" or x[0][1] == \"589\")\n",
    "    .map(check_id)\n",
    "    .join(movies_rdd)\n",
    "    .map(lambda x: (x[1][0][0], x[0], x[1][0][1], x[1][1]))\n",
    "    .sortBy(lambda x: x[2], ascending = False)\n",
    ")\n",
    "\n",
    "\n",
    "movieid_589_rdd.take(10)"
   ]
  },
  {
   "cell_type": "code",
   "execution_count": 12,
   "metadata": {},
   "outputs": [],
   "source": [
    "#  sc.stop()"
   ]
  }
 ],
 "metadata": {
  "celltoolbar": "Raw Cell Format",
  "kernelspec": {
   "display_name": "Python 3",
   "language": "python",
   "name": "python3"
  },
  "language_info": {
   "codemirror_mode": {
    "name": "ipython",
    "version": 3
   },
   "file_extension": ".py",
   "mimetype": "text/x-python",
   "name": "python",
   "nbconvert_exporter": "python",
   "pygments_lexer": "ipython3",
   "version": "3.7.3"
  }
 },
 "nbformat": 4,
 "nbformat_minor": 2
}
